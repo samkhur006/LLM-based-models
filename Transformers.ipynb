{
  "nbformat": 4,
  "nbformat_minor": 0,
  "metadata": {
    "colab": {
      "provenance": [],
      "include_colab_link": true
    },
    "kernelspec": {
      "name": "python3",
      "display_name": "Python 3"
    },
    "language_info": {
      "name": "python"
    }
  },
  "cells": [
    {
      "cell_type": "markdown",
      "metadata": {
        "id": "view-in-github",
        "colab_type": "text"
      },
      "source": [
        "<a href=\"https://colab.research.google.com/github/samkhur006/LLM-based-models/blob/main/Transformers.ipynb\" target=\"_parent\"><img src=\"https://colab.research.google.com/assets/colab-badge.svg\" alt=\"Open In Colab\"/></a>"
      ]
    },
    {
      "cell_type": "code",
      "execution_count": 1,
      "metadata": {
        "id": "y-6StwbUGRVf"
      },
      "outputs": [],
      "source": [
        "import torch\n",
        "import torch.nn as nn\n",
        "import math\n"
      ]
    },
    {
      "cell_type": "code",
      "source": [
        "class InputEmbeddings(nn.Module):\n",
        "  def __init__(self, d_model: int, vocab_size: int):\n",
        "    super().__init__()\n",
        "    self.d_model=d_model\n",
        "    self.vocab_size =vocab_size\n",
        "    self.embedding = nn.Embedding(vocab_size, d_model)\n",
        "\n",
        "  def forward(self, x):\n",
        "    return self.embedding(x) * math.sqrt(self.d_model)"
      ],
      "metadata": {
        "id": "jfJj4YzsL2VQ"
      },
      "execution_count": 2,
      "outputs": []
    },
    {
      "cell_type": "code",
      "source": [
        "class PositionalEncoding(nn.Module):\n",
        "  def __init__(self, d_model: int, seq_len: int, dropout: float):\n",
        "    super().__init__()\n",
        "    self.d_model=d_model\n",
        "    self.seq_len=seq_len\n",
        "    self.dropout= nn.Dropout(dropout)\n",
        "\n",
        "    pe = torch.zeros(seq_len, d_model)\n",
        "    position = torch.arange(0,seq_len,dtype=torch.float).unsqueeze(1)    # (Seq_len, 1 )\n",
        "\n",
        "    div_term = torch.exp ( -math.log(10000)*torch.arange(0,d_model,2)/d_model   )\n",
        "\n",
        "    pe[:,0::2]=torch.sin(position * div_term)\n",
        "    pe[:,1::2]=torch.cos(position * div_term)\n",
        "\n",
        "    pe=pe.unsqueeze(0) #(1,Seq_len,d_model)\n",
        "\n",
        "    self.register_buffer('pe',pe)\n",
        "  def forward(self, x):\n",
        "    x= x + (pe[:,:x.shape[1],:]).requires_grad_(False)\n",
        "    return self.dropout(x)\n"
      ],
      "metadata": {
        "id": "TISUCBp6QErE"
      },
      "execution_count": 3,
      "outputs": []
    },
    {
      "cell_type": "code",
      "source": [
        "class LayerNormalization(nn.Module):\n",
        "  def __init__(self, eps:float = 10**-6):\n",
        "    super().__init__()\n",
        "    self.eps=eps\n",
        "    self.alpha=nn.Parameter(torch.ones(1))\n",
        "    self.bias=nn.Parameter(torch.zeros(1))\n",
        "  def forward(self,x):\n",
        "    mean = x.mean(dim=-1,keepdim=True)\n",
        "    std=x.std(dim=-1, keepdim=True)\n",
        "    return self.alpha * (x-mean)/(std + self.eps )   + self.bias"
      ],
      "metadata": {
        "id": "3t4lB-O_WG65"
      },
      "execution_count": 4,
      "outputs": []
    },
    {
      "cell_type": "code",
      "source": [
        "class FeedForwardLayer(nn.Module):\n",
        "  def __init__(self, d_model: int , d_hidden: int , dropout: float):\n",
        "    super().__init__()\n",
        "    self.layer1 = nn.Linear(d_model,d_hidden)\n",
        "    self.relu=torch.ReLU()\n",
        "    self.layer2 = nn.Linear(d_hidden, d_model)\n",
        "    self.dropout=nn.Dropout(dropout)\n",
        "  def forward(self, x):\n",
        "    return self.layer2(self.dropout (self.relu(self.layer1(x)) ) )"
      ],
      "metadata": {
        "id": "kFlzZufFo4rx"
      },
      "execution_count": 5,
      "outputs": []
    },
    {
      "cell_type": "code",
      "source": [
        "class MultiHeadAttention(nn.Module):\n",
        "  def _init__(self, d_model: int, h: int, dropout: float):\n",
        "    super().__init__()\n",
        "    self.d_model=d_model\n",
        "    self.h=h;\n",
        "    assert d_model %h ==0\n",
        "    self.dropout= dropout\n",
        "    self.d_k = d_model //h\n",
        "    self.w_q = nn.Linear(d_model,d_model)\n",
        "    self.w_k = nn.Linear(d_model,d_model)\n",
        "    self.w_v = nn.Linear(d_model,d_model)\n",
        "\n",
        "    self.w_o=nn.Linear(d_model,d_model)  # in trivial case\n",
        "    self.dropout = nn.Dropout(dropout)\n",
        "\n",
        "  @staticmethod\n",
        "  def attention(query, key, value, mask, dropout: nn.Dropout):\n",
        "    d_k=query.shape[-1]\n",
        "    attention_scores = (query @ key.transpose(-2,-1)) / math.sqrt(d_k)             ################## Matrix mult  (Batch, h , seq_len, seq_len)\n",
        "\n",
        "    if mask is not None:\n",
        "      attention_scores.masked_fill_(mask ==0, -1e9)\n",
        "    attention_scores = attention_scores.softmax(dim=-1)\n",
        "\n",
        "    if dropout is not None:\n",
        "      attention_scores = dropout(attention_scores)\n",
        "\n",
        "    return (attention_scores @ value), attention_scores\n",
        "\n",
        "  def forward(self, q,k,v, mask ):       # q=k=v (self attention)\n",
        "     query = self.w_q(q)    # (Batch, seq_len, d_model)\n",
        "     key = self.w_q(k)\n",
        "     value = self.w_q(v)\n",
        "\n",
        "     query =query.view(query.shape[0],query.shape[1],self.h ,self.d_k).transpose(1,2)       #(Batch, h, seq_len, d_k)\n",
        "     key =key.view(key.shape[0],key.shape[1],self.h ,self.d_k).transpose(1,2)\n",
        "     value =value.view(value.shape[0],value.shape[1],self.h ,self.d_k).transpose(1,2)\n",
        "\n",
        "     x, self.attention_scores  = MultiHeadAttention.attention(query,key,value,mask,self.dropout)\n",
        "\n",
        "     x=x.transpose(1,2).contiguous().view(x.shape[0],-1,self.h * self.d_k)\n",
        "\n",
        "     return self.w_o(x)\n"
      ],
      "metadata": {
        "id": "n8q-WFJMWKMN"
      },
      "execution_count": 6,
      "outputs": []
    },
    {
      "cell_type": "code",
      "source": [
        "class ResidualConnection(nn.Module):\n",
        "  def __init__(self, dropout: nn.Dropout):\n",
        "    super().__init__()\n",
        "    self.dropout = nn.Dropout(dropout)\n",
        "    self.norm = LayerNormalization()\n",
        "\n",
        "\n",
        "  def forward(self, x, sublayer):           #Sublayer is previous layer\n",
        "    return x + self.dropout(sublayer(  self.norm(x)  )  )"
      ],
      "metadata": {
        "id": "xW27K7GA2VKp"
      },
      "execution_count": 7,
      "outputs": []
    },
    {
      "cell_type": "code",
      "source": [
        "class EncoderBlock(nn.Module):\n",
        "  def __init__(self, self_attention_block: MultiHeadAttention, feed_forward_block: FeedForwardLayer, dropout:float ):\n",
        "    super().__init__()\n",
        "    self.self_attention_block = self_attention_block\n",
        "    self.feed_forward_block = feed_forward_block\n",
        "    self.residual_connections= nn.ModuleList( [ResidualConnection(dropout) for _ in range(2)]  )\n",
        "\n",
        "  def forward(self,x, src_mask):              ##### src_mask to prevent interaction of padding words with other words\n",
        "    x = self.residual_connections[0](x, lambda x: self.self_attention_block(x,x,x,src_mask) )\n",
        "    x = self.residual_connections[1](x,  self.feed_forward_block )\n",
        "    return x\n",
        "\n"
      ],
      "metadata": {
        "id": "XMGoJyas2VPW"
      },
      "execution_count": 8,
      "outputs": []
    },
    {
      "cell_type": "code",
      "source": [
        "class Encoder(nn.Module):\n",
        "  def __init__(self, layers: nn.ModuleList):\n",
        "    super().__init__()\n",
        "    self.layers = layers\n",
        "    self.norm = LayerNormalization()\n",
        "\n",
        "  def forward(self, x, mask):\n",
        "    for layer in self.layers:\n",
        "      x=layer(x,mask)\n",
        "    return self.norm(x)"
      ],
      "metadata": {
        "id": "wBM3_Jgc2VTa"
      },
      "execution_count": 9,
      "outputs": []
    },
    {
      "cell_type": "code",
      "source": [
        "class DecoderBlock(nn.Module):\n",
        "  def __init__(self, self_attention_block: MultiHeadAttention, cross_attention_block: MultiHeadAttention, feed_forward_block: FeedForwardLayer, dropout: float):\n",
        "    super().__init__()\n",
        "    self.self_attention_block = self_attention_block\n",
        "    self.cross_attention_block = cross_attention_block\n",
        "    self.feed_forward_block = feed_forward_block\n",
        "    self.residual_connections= nn.ModuleList( [ResidualConnection(dropout) for _ in range(3)]  )\n",
        "\n",
        "  def forward(self,x, encoder_output, src_mask, tgt_mask):\n",
        "    x = self.residual_connections[0](x, lambda x: self.self_attention_block(x,x,x,tgt_mask) )\n",
        "    x = self.residual_connections[1](x, lambda x: self.self_attention_block(x,encoder_output,encoder_output,src_mask) )        ######### WTF why src_mask?\n",
        "    x = self.residual_connections[2](x,  self.feed_forward_block )\n",
        "    return x\n"
      ],
      "metadata": {
        "id": "GvLhGQBH2VXU"
      },
      "execution_count": 10,
      "outputs": []
    },
    {
      "cell_type": "code",
      "source": [
        "class Decoder(nn.Module):\n",
        "  def __init__(self, layers: nn.ModuleList):\n",
        "    super().__init__()\n",
        "    self.layers=layers\n",
        "    self.norm=LayerNormalization()\n",
        "\n",
        "  def forward(self, x, encoder_output, src_mask, tgt_mask):\n",
        "    for layer in self.layers:\n",
        "      x=layer(x, encoder_output, src_mask, tgt_mask)\n",
        "    return self.norm(x)"
      ],
      "metadata": {
        "id": "S8t201k7W-no"
      },
      "execution_count": 11,
      "outputs": []
    },
    {
      "cell_type": "code",
      "source": [
        "class ProjectionLayer(nn.Module):\n",
        "  def __init__(self, d_model: int, vocab_size: int):\n",
        "    super().__int__()\n",
        "    self.proj = nn.Linear(d_model, vocab_size)\n",
        "\n",
        "  def forward(self, x):\n",
        "    return torch.log_softmax(self.proj(x), dim=-1)"
      ],
      "metadata": {
        "id": "cFcpmt8kW-rL"
      },
      "execution_count": 12,
      "outputs": []
    },
    {
      "cell_type": "code",
      "source": [],
      "metadata": {
        "id": "k24iYn1CW-ua"
      },
      "execution_count": 12,
      "outputs": []
    },
    {
      "cell_type": "code",
      "source": [],
      "metadata": {
        "id": "Gj4wMYwPgZWW"
      },
      "execution_count": 12,
      "outputs": []
    },
    {
      "cell_type": "code",
      "source": [
        "class Transformer(nn.Module):\n",
        "  def __init__(self, encoder: Encoder, decoder: Decoder, src_embed: InputEmbeddings, tgt_embed: InputEmbeddings, src_pos: PositionalEncoding, tgt_pos: PositionalEncoding, projection_layer: ProjectionLayer):\n",
        "    super().__init__()\n",
        "    self.encoder = encoder\n",
        "    self.decoder = decoder\n",
        "    self.src_embed = src_embed\n",
        "    self.tgt_embed = tgt_embed\n",
        "    self.src_pos = src_pos\n",
        "    self.tgt_pos = tgt_pos\n",
        "    self.projection_layer = projection_layer\n",
        "\n",
        "  def encode(self, src, src_mask):\n",
        "    src = self.src_embed(src)\n",
        "    src = self.src_pos(src)\n",
        "    return self.encoder(src, src_mask)\n",
        "\n",
        "  def decode(self, encoder_output, src_mask, tgt, tgt_mask):\n",
        "    tgt = self.tgt_embed(tgt)\n",
        "    tgt= self.tgt_pos(tgt)\n",
        "    return self.decoder(tgt, encoder_output, src_mask, tgt_mask )\n",
        "\n",
        "  def project(self,x):\n",
        "    return self.projection_layer(x)\n"
      ],
      "metadata": {
        "id": "Jo0eNCCRgZ_F"
      },
      "execution_count": 13,
      "outputs": []
    },
    {
      "cell_type": "code",
      "source": [
        "from torch.nn.modules.activation import MultiheadAttention\n",
        "def build_transformer(src_vocab_size: int, tgt_vocab_size: int, src_seq_len: int, tgt_seq_len: int, d_model: int =512, N: int =6, h:int = 8, dropout: float = 0.1, d_ff :int =2048):\n",
        "  #Create embedding layer\n",
        "    src_embed = InputEmbeddings(d_model, src_vocab_size)\n",
        "    tgt_embed = InputEmbeddings(d_model, tgt_vocab_size)\n",
        "\n",
        "    # Create positional encoding layers\n",
        "    src_pos = PositionalEncoding(d_model, src_seq_len, dropout)\n",
        "    tgt_pos = PositionalEncoding(d_model, tgt_seq_len, dropout)\n",
        "\n",
        "    encoder_blocks = []\n",
        "\n",
        "    for _ in range(N):\n",
        "      encoder_self_attention_block = MultiheadAttention(d_model, h, dropout)\n",
        "      feed_forward_block = FeedForwardLayer(d_model, d_ff, dropout)\n",
        "      encoder_block = EncoderBlock(encoder_self_attention_block, feed_forward_block, dropout)\n",
        "      encoder_blocks.append(encoder_block)\n",
        "\n",
        "\n",
        "    decoder_blocks = []\n",
        "\n",
        "    for _ in range(N):\n",
        "      decoder_self_attention_block = MultiheadAttention(d_model, h, dropout)\n",
        "      decoder_cross_attention_block = MultiheadAttention(d_model, h, dropout)\n",
        "      feed_forward_block = FeedForwardLayer(d_model, d_ff, dropout)\n",
        "      decoder_block = DecoderBlock(decoder_self_attention_block, decoder_cross_attention_block, feed_forward_block, dropout)\n",
        "      decoder_blocks.append(decoder_block)\n",
        "\n",
        "\n",
        "    encoder = Encoder(nn.ModuleList(encoder_blocks))\n",
        "    decoder = Decoder(nn.ModuleList(decoder_blocks))\n",
        "\n",
        "    projection_layer = ProjectionLayer(d_model, tgt_vocab_size)\n",
        "\n",
        "    transformer = Transformer(encoder, decoder, src_embed, tgt_embed, src_pos, tgt_pos, projection_layer)\n",
        "\n",
        "    # initialize params\n",
        "\n",
        "    for p in transformer.parameters():\n",
        "      if p.dim() > 1:\n",
        "        nn.init.xavier_uniform_(p)\n",
        "\n",
        "    return transformer\n",
        "\n",
        "\n"
      ],
      "metadata": {
        "id": "XBfsPWwwhJtS"
      },
      "execution_count": 17,
      "outputs": []
    },
    {
      "cell_type": "code",
      "source": [],
      "metadata": {
        "id": "ZFyErNWwkjOi"
      },
      "execution_count": null,
      "outputs": []
    }
  ]
}